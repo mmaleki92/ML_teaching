{
 "cells": [
  {
   "cell_type": "markdown",
   "metadata": {},
   "source": [
    "```bash\n",
    "# Installing PyTorch with CUDA support\n",
    "pip install torch torchvision torchaudio --extra-index-url https://download.pytorch.org/whl/cu117\n",
    "\n",
    "# For CPU-only version\n",
    "pip install torch torchvision torchaudio\n",
    "```\n"
   ]
  },
  {
   "cell_type": "code",
   "execution_count": null,
   "metadata": {
    "vscode": {
     "languageId": "plaintext"
    }
   },
   "outputs": [],
   "source": [
    "import torch\n",
    "\n",
    "print(f\"PyTorch version: {torch.__version__}\")\n",
    "print(f\"CUDA available: {torch.cuda.is_available()}\")\n",
    "if torch.cuda.is_available():\n",
    "    print(f\"CUDA version: {torch.version.cuda}\")\n",
    "    print(f\"GPU device: {torch.cuda.get_device_name(0)}\")"
   ]
  },
  {
   "cell_type": "code",
   "execution_count": null,
   "metadata": {
    "vscode": {
     "languageId": "plaintext"
    }
   },
   "outputs": [],
   "source": [
    "import torch\n",
    "import numpy as np\n",
    "\n",
    "# Creating tensors\n",
    "x = torch.tensor([1, 2, 3, 4])\n",
    "print(f\"Tensor: {x}\")\n",
    "\n",
    "# From NumPy\n",
    "np_array = np.array([1, 2, 3, 4])\n",
    "x_np = torch.from_numpy(np_array)\n",
    "print(f\"From NumPy: {x_np}\")\n",
    "\n",
    "# Various initialization methods\n",
    "zeros = torch.zeros(3, 4)  # 3x4 tensor of zeros\n",
    "ones = torch.ones(2, 3)    # 2x3 tensor of ones\n",
    "rand = torch.rand(2, 4)    # 2x4 tensor of random values from uniform distribution [0,1)\n",
    "randn = torch.randn(2, 4)  # 2x4 tensor of random values from normal distribution (mean=0, std=1)\n",
    "\n",
    "print(f\"Zeros:\\n{zeros}\")\n",
    "print(f\"Ones:\\n{ones}\")\n",
    "print(f\"Random uniform:\\n{rand}\")\n",
    "print(f\"Random normal:\\n{randn}\")\n",
    "\n",
    "# Tensor properties\n",
    "print(f\"Shape: {rand.shape}\")\n",
    "print(f\"Data type: {rand.dtype}\")\n",
    "print(f\"Device: {rand.device}\")  # CPU or GPU\n",
    "\n",
    "# Basic operations\n",
    "a = torch.tensor([1, 2, 3])\n",
    "b = torch.tensor([4, 5, 6])\n",
    "\n",
    "print(f\"a + b: {a + b}\")\n",
    "print(f\"a * b: {a * b}\")  # Element-wise multiplication\n",
    "print(f\"Matrix multiplication: {torch.matmul(a, b)}\")\n",
    "\n",
    "# Reshaping\n",
    "c = torch.randn(4, 4)\n",
    "print(f\"Original:\\n{c}\")\n",
    "print(f\"Reshaped to 2x8:\\n{c.view(2, 8)}\")\n",
    "print(f\"Transposed:\\n{c.t()}\")\n",
    "\n",
    "# Moving to GPU (if available)\n",
    "if torch.cuda.is_available():\n",
    "    x_gpu = x.to(\"cuda\")\n",
    "    print(f\"Device after moving to GPU: {x_gpu.device}\")"
   ]
  }
 ],
 "metadata": {
  "language_info": {
   "name": "python"
  }
 },
 "nbformat": 4,
 "nbformat_minor": 2
}
