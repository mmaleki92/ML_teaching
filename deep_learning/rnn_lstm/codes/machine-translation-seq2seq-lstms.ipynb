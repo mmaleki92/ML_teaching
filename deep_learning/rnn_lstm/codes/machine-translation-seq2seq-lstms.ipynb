{
 "cells": [
  {
   "cell_type": "markdown",
   "metadata": {
    "_cell_guid": "b1076dfc-b9ad-4769-8c92-a6c4dae69d19",
    "_uuid": "8f2839f25d086af736a60e9eeb907d3b93b6e0e5"
   },
   "source": [
    "# MACHINE TRANSLATION"
   ]
  },
  {
   "cell_type": "markdown",
   "metadata": {},
   "source": [
    "<p style=\"font-size:150%;\">The objective is to Explain How Seq 2 Seq and LSTMs are used for Machine Translations using an example dataset of converting a German sentence to its English counterpart.</p>\n",
    "\n",
    "<h1> What is Seq2Seq Modelling ?</h1>\n",
    "\n",
    "<ul>\n",
    "    <li style=\"font-size:150%;\">Sequence-to-sequence learning (Seq2Seq) is about training models to convert sequences from one domain (e.g. sentences in English) to sequences in another domain (e.g. the same sentences translated to German). Our aim is to translate given sentences from German language to English.</li>\n",
    "    <li style=\"font-size:150%;\">Sequence-to-Sequence (seq2seq) models are used for a variety of NLP tasks, such as text summarization, speech recognition, DNA sequence modeling, among others.</li>\n",
    "    <li style=\"font-size:150%;\">Here, both the input and output are sentences. In other words, these sentences are a sequence of words going in and out of a model. This is the basic idea of Sequence-to-Sequence modeling. The figure below tries to explain this method.</li>\n",
    "</ul>\n",
    "\n",
    "<center><img src=\"https://cdn.analyticsvidhya.com/wp-content/uploads/2019/01/enc_dec_simple.png\"></center>\n",
    "\n",
    "<h2>  Here's how it works:</h2>\n",
    "\n",
    "<ul>\n",
    "    <li style=\"font-size:150%;\">Feed the embedding vectors for source sequences (German), to the encoder network, one word at a time.</li>\n",
    "    <li style=\"font-size:150%;\">Encode the input sentences into fixed dimension state vectors. At this step, we get the hidden and cell states from the encoder LSTM, and feed it to the decoder LSTM.</li>\n",
    "    <li style=\"font-size:150%;\">These states are regarded as initial states by decoder. Additionally, it also has the embedding vectors for target words (English).</li>\n",
    "    <li style=\"font-size:150%;\">Decode and output the translated sentence, one word at a time. In this step, the output of the decoder is sent to a softmax layer over the entire target vocabulary.</li>\n",
    "</ul>\n",
    "\n",
    "<h1> What is LSTM ?</h1>\n",
    "\n",
    "<ul>\n",
    "    <li style=\"font-size:150%;\">Long Short-Term Memory (LSTM) networks are a modified version of recurrent neural networks, which makes it easier to remember past data in memory. The vanishing gradient problem of RNN is resolved here. LSTM is well-suited to classify, process and predict time series given time lags of unknown duration. It trains the model by using back-propagation. In an LSTM network, three gates are present:</li>\n",
    "</ul>\n",
    "\n",
    "<center><img src=\"https://miro.medium.com/max/700/1*MwU5yk8f9d6IcLybvGgNxA.jpeg\"></center>\n",
    "\n",
    "<ul>\n",
    "    <li style=\"font-size:150%;\"><b>Input gate —</b> discover which value from input should be used to modify the memory. Sigmoid function decides which values to let through 0,1. and tanh function gives weightage to the values which are passed deciding their level of importance ranging from-1 to 1.</li>\n",
    "    <center><img src=\"https://miro.medium.com/max/500/1*k1lxwjsxxn8O4BEiVlQNdg.png\"></center>\n",
    "    <li style=\"font-size:150%;\"><b>Forget gate —</b> discover what details to be discarded from the block. It is decided by the sigmoid function. it looks at the previous state(ht-1) and the content input(Xt) and outputs a number between 0(omit this)and 1(keep this)for each number in the cell state Ct−1.</li>\n",
    "    <center><img src=\"https://miro.medium.com/max/500/1*bQnecA5sy_eepNkL8I-95A.png\"></center>\n",
    "    <li style=\"font-size:150%;\"><b>Output gate —</b> the input and the memory of the block is used to decide the output. Sigmoid function decides which values to let through 0,1. and tanh function gives weightage to the values which are passed deciding their level of importance ranging from-1 to 1 and multiplied with output of Sigmoid.</li>\n",
    "    <center><img src=\"https://miro.medium.com/max/700/1*s8532P11PgGi2sZqikZ2kA.png\"></center>\n",
    "</ul>"
   ]
  },
  {
   "cell_type": "markdown",
   "metadata": {},
   "source": [
    "<center><h1 style=\"font-size:200%; background-color:skyblue; color:black; padding:15px; font-family:Garamond;\"><b>Let's start the Implementation</b></h1></center>"
   ]
  },
  {
   "cell_type": "markdown",
   "metadata": {},
   "source": [
    "## imports"
   ]
  },
  {
   "cell_type": "code",
   "execution_count": 2,
   "metadata": {
    "execution": {
     "iopub.execute_input": "2025-05-28T05:27:08.662677Z",
     "iopub.status.busy": "2025-05-28T05:27:08.662404Z",
     "iopub.status.idle": "2025-05-28T05:27:08.669104Z",
     "shell.execute_reply": "2025-05-28T05:27:08.668273Z",
     "shell.execute_reply.started": "2025-05-28T05:27:08.662653Z"
    },
    "trusted": true
   },
   "outputs": [],
   "source": [
    "import string\n",
    "import re\n",
    "from numpy import array, argmax, random, take\n",
    "import pandas as pd\n",
    "from keras.models import Sequential\n",
    "from keras.layers import Dense, LSTM, Embedding, RepeatVector\n",
    "from keras.preprocessing.text import Tokenizer\n",
    "from keras.callbacks import ModelCheckpoint\n",
    "from keras.preprocessing.sequence import pad_sequences\n",
    "from keras.models import load_model\n",
    "from keras import optimizers\n",
    "import matplotlib.pyplot as plt\n",
    "%matplotlib inline\n",
    "pd.set_option('display.max_colwidth', 200)"
   ]
  },
  {
   "cell_type": "markdown",
   "metadata": {},
   "source": [
    "<h1> Load the Data </h1>"
   ]
  },
  {
   "cell_type": "code",
   "execution_count": 3,
   "metadata": {
    "execution": {
     "iopub.execute_input": "2025-05-28T05:27:10.227334Z",
     "iopub.status.busy": "2025-05-28T05:27:10.227053Z",
     "iopub.status.idle": "2025-05-28T05:27:10.231498Z",
     "shell.execute_reply": "2025-05-28T05:27:10.230517Z",
     "shell.execute_reply.started": "2025-05-28T05:27:10.227312Z"
    },
    "trusted": true
   },
   "outputs": [],
   "source": [
    "# function to read raw text file\n",
    "def read_text(filename):\n",
    "        # open the file\n",
    "        file = open(filename, mode='rt', encoding='utf-8')\n",
    "        \n",
    "        # read all text\n",
    "        text = file.read()\n",
    "        file.close()\n",
    "        return text"
   ]
  },
  {
   "cell_type": "code",
   "execution_count": 4,
   "metadata": {
    "execution": {
     "iopub.execute_input": "2025-05-28T05:27:11.773596Z",
     "iopub.status.busy": "2025-05-28T05:27:11.773311Z",
     "iopub.status.idle": "2025-05-28T05:27:11.777685Z",
     "shell.execute_reply": "2025-05-28T05:27:11.776861Z",
     "shell.execute_reply.started": "2025-05-28T05:27:11.773571Z"
    },
    "trusted": true
   },
   "outputs": [],
   "source": [
    "# split a text into sentences\n",
    "def to_lines(text):\n",
    "    sents = text.strip().split('\\n')\n",
    "    sents = [i.split('\\t') for i in sents]\n",
    "    return sents"
   ]
  },
  {
   "cell_type": "code",
   "execution_count": 5,
   "metadata": {
    "execution": {
     "iopub.execute_input": "2025-05-28T05:27:27.844966Z",
     "iopub.status.busy": "2025-05-28T05:27:27.844626Z",
     "iopub.status.idle": "2025-05-28T05:27:30.526128Z",
     "shell.execute_reply": "2025-05-28T05:27:30.525383Z",
     "shell.execute_reply.started": "2025-05-28T05:27:27.844935Z"
    },
    "trusted": true
   },
   "outputs": [],
   "source": [
    "data = read_text(\"../input/bilingual-sentence-pairs/deu.txt\")\n",
    "deu_eng = to_lines(data)\n",
    "deu_eng = array(deu_eng)"
   ]
  },
  {
   "cell_type": "code",
   "execution_count": 6,
   "metadata": {
    "execution": {
     "iopub.execute_input": "2025-05-28T05:27:37.031458Z",
     "iopub.status.busy": "2025-05-28T05:27:37.030963Z",
     "iopub.status.idle": "2025-05-28T05:27:37.036978Z",
     "shell.execute_reply": "2025-05-28T05:27:37.035718Z",
     "shell.execute_reply.started": "2025-05-28T05:27:37.031411Z"
    },
    "trusted": true
   },
   "outputs": [],
   "source": [
    "deu_eng = deu_eng[:50000,:]"
   ]
  },
  {
   "cell_type": "markdown",
   "metadata": {},
   "source": [
    "<ul>\n",
    "    <li style=\"font-size:150%;\">The actual data contains over 150,000 sentence-pairs. However, we will use only the first 50,000 sentence pairs to reduce the training time of the model. You can change this number as per your system’s computation power.</li>\n",
    "</ul>"
   ]
  },
  {
   "cell_type": "markdown",
   "metadata": {},
   "source": [
    "<h1> Text Cleaning / Preprocessing</h1>"
   ]
  },
  {
   "cell_type": "markdown",
   "metadata": {},
   "source": [
    "<ul>\n",
    "    <li style=\"font-size:150%;\">We will get rid of the punctuation marks and then convert all the text to lower case.</li>\n",
    "</ul>"
   ]
  },
  {
   "cell_type": "code",
   "execution_count": 7,
   "metadata": {
    "execution": {
     "iopub.execute_input": "2025-05-28T05:27:54.277914Z",
     "iopub.status.busy": "2025-05-28T05:27:54.277547Z",
     "iopub.status.idle": "2025-05-28T05:27:54.761376Z",
     "shell.execute_reply": "2025-05-28T05:27:54.760593Z",
     "shell.execute_reply.started": "2025-05-28T05:27:54.277880Z"
    },
    "trusted": true
   },
   "outputs": [
    {
     "data": {
      "text/plain": [
       "array([['Go', 'Geh',\n",
       "        'CC-BY 2.0 (France) Attribution: tatoeba.org #2877272 (CM) & #8597805 (Roujin)'],\n",
       "       ['Hi', 'Hallo',\n",
       "        'CC-BY 2.0 (France) Attribution: tatoeba.org #538123 (CM) & #380701 (cburgmer)'],\n",
       "       ['Hi', 'Grüß Gott',\n",
       "        'CC-BY 2.0 (France) Attribution: tatoeba.org #538123 (CM) & #659813 (Esperantostern)'],\n",
       "       ...,\n",
       "       ['Im giving up smoking', 'Ich höre mit dem Rauchen auf',\n",
       "        'CC-BY 2.0 (France) Attribution: tatoeba.org #256952 (minshirui) & #407184 (MUIRIEL)'],\n",
       "       ['Im glad I was nearby', 'Ich bin froh dass ich in der Nähe war',\n",
       "        'CC-BY 2.0 (France) Attribution: tatoeba.org #2547219 (CK) & #3448316 (Pfirsichbaeumchen)'],\n",
       "       ['Im glad Tom has gone', 'Ich bin froh dass Tom weg ist',\n",
       "        'CC-BY 2.0 (France) Attribution: tatoeba.org #2547217 (CK) & #5299642 (Pfirsichbaeumchen)']],\n",
       "      dtype='<U537')"
      ]
     },
     "execution_count": 7,
     "metadata": {},
     "output_type": "execute_result"
    }
   ],
   "source": [
    "# Remove punctuation\n",
    "deu_eng[:,0] = [s.translate(str.maketrans('', '', string.punctuation)) for s in deu_eng[:,0]]\n",
    "deu_eng[:,1] = [s.translate(str.maketrans('', '', string.punctuation)) for s in deu_eng[:,1]]\n",
    "\n",
    "deu_eng"
   ]
  },
  {
   "cell_type": "code",
   "execution_count": 8,
   "metadata": {
    "execution": {
     "iopub.execute_input": "2025-05-28T05:28:14.742588Z",
     "iopub.status.busy": "2025-05-28T05:28:14.742262Z",
     "iopub.status.idle": "2025-05-28T05:28:14.957718Z",
     "shell.execute_reply": "2025-05-28T05:28:14.957059Z",
     "shell.execute_reply.started": "2025-05-28T05:28:14.742555Z"
    },
    "trusted": true
   },
   "outputs": [],
   "source": [
    "# convert text to lowercase\n",
    "for i in range(len(deu_eng)):\n",
    "    deu_eng[i,0] = deu_eng[i,0].lower()\n",
    "    deu_eng[i,1] = deu_eng[i,1].lower()"
   ]
  },
  {
   "cell_type": "code",
   "execution_count": 9,
   "metadata": {
    "execution": {
     "iopub.execute_input": "2025-05-28T05:28:16.439375Z",
     "iopub.status.busy": "2025-05-28T05:28:16.439045Z",
     "iopub.status.idle": "2025-05-28T05:28:17.007571Z",
     "shell.execute_reply": "2025-05-28T05:28:17.006763Z",
     "shell.execute_reply.started": "2025-05-28T05:28:16.439344Z"
    },
    "trusted": true
   },
   "outputs": [
    {
     "name": "stderr",
     "output_type": "stream",
     "text": [
      "/opt/conda/lib/python3.7/site-packages/pandas/plotting/_matplotlib/tools.py:331: MatplotlibDeprecationWarning: \n",
      "The is_first_col function was deprecated in Matplotlib 3.4 and will be removed two minor releases later. Use ax.get_subplotspec().is_first_col() instead.\n",
      "  if ax.is_first_col():\n"
     ]
    },
    {
     "data": {
      "image/png": "[encoded data removed]",
      "text/plain": [
       "<Figure size 432x288 with 2 Axes>"
      ]
     },
     "metadata": {
      "needs_background": "light"
     },
     "output_type": "display_data"
    }
   ],
   "source": [
    "# empty lists\n",
    "eng_l = []\n",
    "deu_l = []\n",
    "\n",
    "# populate the lists with sentence lengths\n",
    "for i in deu_eng[:,0]:\n",
    "      eng_l.append(len(i.split()))\n",
    "\n",
    "for i in deu_eng[:,1]:\n",
    "      deu_l.append(len(i.split()))\n",
    "\n",
    "length_df = pd.DataFrame({'eng':eng_l, 'deu':deu_l})\n",
    "\n",
    "length_df.hist(bins = 30)\n",
    "plt.show()"
   ]
  },
  {
   "cell_type": "markdown",
   "metadata": {},
   "source": [
    "<ul>\n",
    "    <li style=\"font-size:150%;\">A Seq2Seq model requires that we convert both the input and the output sentences into integer sequences of fixed length.</li>\n",
    "    <li style=\"font-size:150%;\">Now, vectorize our text data by using Keras’s Tokenizer() class. It will turn our sentences into sequences of integers. We can then pad those sequences with zeros to make all the sequences of the same length.</li>\n",
    "    <li style=\"font-size:150%;\">Prepare tokenizers for both the German and English sentences</li>\n",
    "</ul>"
   ]
  },
  {
   "cell_type": "code",
   "execution_count": 10,
   "metadata": {
    "execution": {
     "iopub.execute_input": "2025-05-28T05:28:22.700117Z",
     "iopub.status.busy": "2025-05-28T05:28:22.699773Z",
     "iopub.status.idle": "2025-05-28T05:28:22.703864Z",
     "shell.execute_reply": "2025-05-28T05:28:22.703061Z",
     "shell.execute_reply.started": "2025-05-28T05:28:22.700088Z"
    },
    "trusted": true
   },
   "outputs": [],
   "source": [
    "# function to build a tokenizer\n",
    "def tokenization(lines):\n",
    "    tokenizer = Tokenizer()\n",
    "    tokenizer.fit_on_texts(lines)\n",
    "    return tokenizer"
   ]
  },
  {
   "cell_type": "code",
   "execution_count": 11,
   "metadata": {
    "execution": {
     "iopub.execute_input": "2025-05-28T05:28:29.665927Z",
     "iopub.status.busy": "2025-05-28T05:28:29.665610Z",
     "iopub.status.idle": "2025-05-28T05:28:30.132046Z",
     "shell.execute_reply": "2025-05-28T05:28:30.131218Z",
     "shell.execute_reply.started": "2025-05-28T05:28:29.665900Z"
    },
    "trusted": true
   },
   "outputs": [
    {
     "name": "stdout",
     "output_type": "stream",
     "text": [
      "English Vocabulary Size: 6256\n"
     ]
    }
   ],
   "source": [
    "# prepare english tokenizer\n",
    "eng_tokenizer = tokenization(deu_eng[:, 0])\n",
    "eng_vocab_size = len(eng_tokenizer.word_index) + 1\n",
    "\n",
    "eng_length = 8\n",
    "print('English Vocabulary Size: %d' % eng_vocab_size)"
   ]
  },
  {
   "cell_type": "code",
   "execution_count": 12,
   "metadata": {
    "execution": {
     "iopub.execute_input": "2025-05-28T05:28:32.376666Z",
     "iopub.status.busy": "2025-05-28T05:28:32.376269Z",
     "iopub.status.idle": "2025-05-28T05:28:32.910109Z",
     "shell.execute_reply": "2025-05-28T05:28:32.909199Z",
     "shell.execute_reply.started": "2025-05-28T05:28:32.376630Z"
    },
    "trusted": true
   },
   "outputs": [
    {
     "name": "stdout",
     "output_type": "stream",
     "text": [
      "Deutch Vocabulary Size: 10329\n"
     ]
    }
   ],
   "source": [
    "# prepare Deutch tokenizer\n",
    "deu_tokenizer = tokenization(deu_eng[:, 1])\n",
    "deu_vocab_size = len(deu_tokenizer.word_index) + 1\n",
    "\n",
    "deu_length = 8\n",
    "print('Deutch Vocabulary Size: %d' % deu_vocab_size)"
   ]
  },
  {
   "cell_type": "markdown",
   "metadata": {},
   "source": [
    "<ul>\n",
    "    <li style=\"font-size:150%;\">We tokenized the data — i.e., converted the text to numerical values. This allows the neural network to perform operations on the input data.</li>\n",
    "    <li style=\"font-size:150%;\">When we run the tokenizer, it creates a word index, which is then used to convert each sentence to a vector.</li>"
   ]
  },
  {
   "cell_type": "code",
   "execution_count": 13,
   "metadata": {
    "execution": {
     "iopub.execute_input": "2025-05-28T05:28:34.648063Z",
     "iopub.status.busy": "2025-05-28T05:28:34.647725Z",
     "iopub.status.idle": "2025-05-28T05:28:34.651914Z",
     "shell.execute_reply": "2025-05-28T05:28:34.650989Z",
     "shell.execute_reply.started": "2025-05-28T05:28:34.648035Z"
    },
    "trusted": true
   },
   "outputs": [],
   "source": [
    "# encode and pad sequences\n",
    "def encode_sequences(tokenizer, length, lines):\n",
    "    seq = tokenizer.texts_to_sequences(lines)\n",
    "    # pad sequences with 0 values\n",
    "    seq = pad_sequences(seq, maxlen=length, padding='post')\n",
    "    return seq"
   ]
  },
  {
   "cell_type": "markdown",
   "metadata": {},
   "source": [
    "<ul>\n",
    "    <li style=\"font-size:150%;\">When we feed our sequences of word IDs into the model, each sequence needs to be the same length. To achieve this, padding is added to any sequence that is shorter than the max length (i.e. shorter than the longest sentence).</li>\n",
    "</ul>\n",
    "\n",
    "<center><img src=\"https://miro.medium.com/max/1728/0*6jZTOE0P7_i7N8pn.png\"></center>"
   ]
  },
  {
   "cell_type": "markdown",
   "metadata": {},
   "source": [
    "<center><h1 style=\"font-size:200%; background-color:skyblue; color:black; padding:15px; font-family:Garamond;\"><b>Model Building</b></h1></center>"
   ]
  },
  {
   "cell_type": "markdown",
   "metadata": {},
   "source": [
    "<p style=\"font-size:150%;\">CODE REFERENCE: https://www.analyticsvidhya.com/blog/2019/01/neural-machine-translation-keras/</p>\n",
    "\n",
    "<p style=\"font-size:170%;\">First, let’s breakdown the architecture of an RNN at a high level. Referring to the diagram above, there are a few parts of the model we to be aware of:</p>\n",
    "\n",
    "<ul>\n",
    "    <li style=\"font-size:150%;\">Inputs. Input sequences are fed into the model with one word for every time step. Each word is encoded as a unique integer so that it maps to the German dataset vocabulary.</li>\n",
    "    <li style=\"font-size:150%;\">Embedding Layers. Embeddings are used to convert each word to a vector. The size of the vector depends on the complexity of the vocabulary.</li>\n",
    "    <li style=\"font-size:150%;\">LSTM Layer (Encoder). This is where the context from word vectors in previous time steps is applied to the current word vector.</li>\n",
    "    <li style=\"font-size:150%;\">Dense Layers (Decoder). These are typical fully connected layers used to decode the encoded input into the correct translation sequence.</li>\n",
    "    <li style=\"font-size:150%;\">he outputs are returned as a sequence of integers or one-hot encoded vectors which can then be mapped to the English dataset vocabulary.</li>\n",
    "</ul>\n",
    "    \n",
    "    \n",
    "<center><h1 style=\"font-size:150%;\">Model Architecture</h1></center>\n",
    "<center><img src=\"https://cdn.analyticsvidhya.com/wp-content/uploads/2019/01/architecture.png\"></center>"
   ]
  },
  {
   "cell_type": "code",
   "execution_count": 14,
   "metadata": {
    "execution": {
     "iopub.execute_input": "2025-05-28T05:28:44.108312Z",
     "iopub.status.busy": "2025-05-28T05:28:44.108016Z",
     "iopub.status.idle": "2025-05-28T05:28:44.951099Z",
     "shell.execute_reply": "2025-05-28T05:28:44.950276Z",
     "shell.execute_reply.started": "2025-05-28T05:28:44.108289Z"
    },
    "trusted": true
   },
   "outputs": [],
   "source": [
    "from sklearn.model_selection import train_test_split\n",
    "\n",
    "# split data into train and test set\n",
    "train, test = train_test_split(deu_eng, test_size=0.2, random_state = 12)"
   ]
  },
  {
   "cell_type": "markdown",
   "metadata": {},
   "source": [
    "<ul>\n",
    "    <li style=\"font-size:150%;\">It’s time to encode the sentences. We will encode German sentences as the input sequences and English sentences as the target sequences. This has to be done for both the train and test datasets.</li>"
   ]
  },
  {
   "cell_type": "code",
   "execution_count": 15,
   "metadata": {
    "execution": {
     "iopub.execute_input": "2025-05-28T05:28:47.869229Z",
     "iopub.status.busy": "2025-05-28T05:28:47.868935Z",
     "iopub.status.idle": "2025-05-28T05:28:49.235548Z",
     "shell.execute_reply": "2025-05-28T05:28:49.234656Z",
     "shell.execute_reply.started": "2025-05-28T05:28:47.869205Z"
    },
    "trusted": true
   },
   "outputs": [],
   "source": [
    "# prepare training data\n",
    "trainX = encode_sequences(deu_tokenizer, deu_length, train[:, 1])\n",
    "trainY = encode_sequences(eng_tokenizer, eng_length, train[:, 0])\n",
    "\n",
    "# prepare validation data\n",
    "testX = encode_sequences(deu_tokenizer, deu_length, test[:, 1])\n",
    "testY = encode_sequences(eng_tokenizer, eng_length, test[:, 0])"
   ]
  },
  {
   "cell_type": "markdown",
   "metadata": {},
   "source": [
    "<h1> Define the Model</h1>"
   ]
  },
  {
   "cell_type": "code",
   "execution_count": 16,
   "metadata": {
    "execution": {
     "iopub.execute_input": "2025-05-28T05:28:50.863619Z",
     "iopub.status.busy": "2025-05-28T05:28:50.863306Z",
     "iopub.status.idle": "2025-05-28T05:28:50.868306Z",
     "shell.execute_reply": "2025-05-28T05:28:50.867504Z",
     "shell.execute_reply.started": "2025-05-28T05:28:50.863586Z"
    },
    "trusted": true
   },
   "outputs": [],
   "source": [
    "# build NMT model\n",
    "def define_model(in_vocab,out_vocab, in_timesteps,out_timesteps,units):\n",
    "    model = Sequential()\n",
    "    model.add(Embedding(in_vocab, units, input_length=in_timesteps, mask_zero=True))\n",
    "    model.add(LSTM(units))\n",
    "    model.add(RepeatVector(out_timesteps))\n",
    "    model.add(LSTM(units, return_sequences=True))\n",
    "    model.add(Dense(out_vocab, activation='softmax'))\n",
    "    return model"
   ]
  },
  {
   "cell_type": "code",
   "execution_count": 17,
   "metadata": {
    "execution": {
     "iopub.execute_input": "2025-05-28T05:28:52.066356Z",
     "iopub.status.busy": "2025-05-28T05:28:52.066025Z",
     "iopub.status.idle": "2025-05-28T05:28:56.234558Z",
     "shell.execute_reply": "2025-05-28T05:28:56.233627Z",
     "shell.execute_reply.started": "2025-05-28T05:28:52.066326Z"
    },
    "trusted": true
   },
   "outputs": [],
   "source": [
    "# model compilation\n",
    "model = define_model(deu_vocab_size, eng_vocab_size, deu_length, eng_length, 512)"
   ]
  },
  {
   "cell_type": "code",
   "execution_count": 18,
   "metadata": {
    "execution": {
     "iopub.execute_input": "2025-05-28T05:28:56.236141Z",
     "iopub.status.busy": "2025-05-28T05:28:56.235887Z",
     "iopub.status.idle": "2025-05-28T05:28:56.249024Z",
     "shell.execute_reply": "2025-05-28T05:28:56.248297Z",
     "shell.execute_reply.started": "2025-05-28T05:28:56.236117Z"
    },
    "trusted": true
   },
   "outputs": [],
   "source": [
    "rms = optimizers.RMSprop(lr=0.001)\n",
    "model.compile(optimizer=rms, loss='sparse_categorical_crossentropy')"
   ]
  },
  {
   "cell_type": "markdown",
   "metadata": {},
   "source": [
    "<ul>\n",
    "    <li style=\"font-size:150%;\">We are using the RMSprop optimizer in this model as it’s usually a good choice when working with recurrent neural networks.</li>\n",
    "    <li style=\"font-size:150%;\">Here I have used ‘sparse_categorical_crossentropy‘ as the loss function. This is because the function allows us to use the target sequence as is, instead of the one-hot encoded format. One-hot encoding the target sequences using such a huge vocabulary might consume our system’s entire memory.</li>\n",
    "               \n",
    "</ul>"
   ]
  },
  {
   "cell_type": "markdown",
   "metadata": {},
   "source": [
    "<h1> Fit the Model</h1>"
   ]
  },
  {
   "cell_type": "markdown",
   "metadata": {},
   "source": [
    "<ul>\n",
    "    <li style=\"font-size:150%;\">ModelCheckpoint() function to save the model with the lowest validation loss. I personally prefer this method over early stopping.</li>\n",
    "</ul>"
   ]
  },
  {
   "cell_type": "code",
   "execution_count": 19,
   "metadata": {
    "execution": {
     "iopub.execute_input": "2025-05-28T05:28:56.548595Z",
     "iopub.status.busy": "2025-05-28T05:28:56.548305Z",
     "iopub.status.idle": "2025-05-28T05:36:24.889831Z",
     "shell.execute_reply": "2025-05-28T05:36:24.888895Z",
     "shell.execute_reply.started": "2025-05-28T05:28:56.548568Z"
    },
    "trusted": true
   },
   "outputs": [
    {
     "name": "stdout",
     "output_type": "stream",
     "text": [
      "Epoch 1/30\n",
      "63/63 [==============================] - 14s 102ms/step - loss: 4.3393 - val_loss: 2.8775\n",
      "\n",
      "Epoch 00001: val_loss improved from inf to 2.87749, saving model to model.h1.24_jan_19\n",
      "Epoch 2/30\n",
      "63/63 [==============================] - 5s 76ms/step - loss: 2.7882 - val_loss: 2.7189\n",
      "\n",
      "Epoch 00002: val_loss improved from 2.87749 to 2.71892, saving model to model.h1.24_jan_19\n",
      "Epoch 3/30\n",
      "63/63 [==============================] - 5s 77ms/step - loss: 2.6253 - val_loss: 2.5675\n",
      "\n",
      "Epoch 00003: val_loss improved from 2.71892 to 2.56750, saving model to model.h1.24_jan_19\n",
      "Epoch 4/30\n",
      "63/63 [==============================] - 5s 79ms/step - loss: 2.4270 - val_loss: 2.4511\n",
      "\n",
      "Epoch 00004: val_loss improved from 2.56750 to 2.45109, saving model to model.h1.24_jan_19\n",
      "Epoch 5/30\n",
      "63/63 [==============================] - 5s 79ms/step - loss: 2.2824 - val_loss: 2.3192\n",
      "\n",
      "Epoch 00005: val_loss improved from 2.45109 to 2.31917, saving model to model.h1.24_jan_19\n",
      "Epoch 6/30\n",
      "63/63 [==============================] - 5s 80ms/step - loss: 2.1467 - val_loss: 2.2240\n",
      "\n",
      "Epoch 00006: val_loss improved from 2.31917 to 2.22398, saving model to model.h1.24_jan_19\n",
      "Epoch 7/30\n",
      "63/63 [==============================] - 5s 82ms/step - loss: 2.0184 - val_loss: 2.0988\n",
      "\n",
      "Epoch 00007: val_loss improved from 2.22398 to 2.09881, saving model to model.h1.24_jan_19\n",
      "Epoch 8/30\n",
      "63/63 [==============================] - 5s 84ms/step - loss: 1.8925 - val_loss: 2.0341\n",
      "\n",
      "Epoch 00008: val_loss improved from 2.09881 to 2.03412, saving model to model.h1.24_jan_19\n",
      "Epoch 9/30\n",
      "63/63 [==============================] - 5s 84ms/step - loss: 1.7781 - val_loss: 1.9382\n",
      "\n",
      "Epoch 00009: val_loss improved from 2.03412 to 1.93822, saving model to model.h1.24_jan_19\n",
      "Epoch 10/30\n",
      "63/63 [==============================] - 5s 86ms/step - loss: 1.6713 - val_loss: 1.8864\n",
      "\n",
      "Epoch 00010: val_loss improved from 1.93822 to 1.88644, saving model to model.h1.24_jan_19\n",
      "Epoch 11/30\n",
      "63/63 [==============================] - 6s 88ms/step - loss: 1.5813 - val_loss: 1.8615\n",
      "\n",
      "Epoch 00011: val_loss improved from 1.88644 to 1.86145, saving model to model.h1.24_jan_19\n",
      "Epoch 12/30\n",
      "63/63 [==============================] - 5s 84ms/step - loss: 1.4839 - val_loss: 1.8021\n",
      "\n",
      "Epoch 00012: val_loss improved from 1.86145 to 1.80212, saving model to model.h1.24_jan_19\n",
      "Epoch 13/30\n",
      "63/63 [==============================] - 5s 84ms/step - loss: 1.3927 - val_loss: 1.7023\n",
      "\n",
      "Epoch 00013: val_loss improved from 1.80212 to 1.70230, saving model to model.h1.24_jan_19\n",
      "Epoch 14/30\n",
      "63/63 [==============================] - 5s 85ms/step - loss: 1.3052 - val_loss: 1.6550\n",
      "\n",
      "Epoch 00014: val_loss improved from 1.70230 to 1.65499, saving model to model.h1.24_jan_19\n",
      "Epoch 15/30\n",
      "63/63 [==============================] - 5s 86ms/step - loss: 1.2207 - val_loss: 1.6415\n",
      "\n",
      "Epoch 00015: val_loss improved from 1.65499 to 1.64151, saving model to model.h1.24_jan_19\n",
      "Epoch 16/30\n",
      "63/63 [==============================] - 5s 87ms/step - loss: 1.1465 - val_loss: 1.5742\n",
      "\n",
      "Epoch 00016: val_loss improved from 1.64151 to 1.57423, saving model to model.h1.24_jan_19\n",
      "Epoch 17/30\n",
      "63/63 [==============================] - 5s 84ms/step - loss: 1.0772 - val_loss: 1.5377\n",
      "\n",
      "Epoch 00017: val_loss improved from 1.57423 to 1.53767, saving model to model.h1.24_jan_19\n",
      "Epoch 18/30\n",
      "63/63 [==============================] - 5s 87ms/step - loss: 1.0015 - val_loss: 1.5168\n",
      "\n",
      "Epoch 00018: val_loss improved from 1.53767 to 1.51682, saving model to model.h1.24_jan_19\n",
      "Epoch 19/30\n",
      "63/63 [==============================] - 6s 86ms/step - loss: 0.9291 - val_loss: 1.4806\n",
      "\n",
      "Epoch 00019: val_loss improved from 1.51682 to 1.48063, saving model to model.h1.24_jan_19\n",
      "Epoch 20/30\n",
      "63/63 [==============================] - 5s 85ms/step - loss: 0.8663 - val_loss: 1.4515\n",
      "\n",
      "Epoch 00020: val_loss improved from 1.48063 to 1.45145, saving model to model.h1.24_jan_19\n",
      "Epoch 21/30\n",
      "63/63 [==============================] - 5s 85ms/step - loss: 0.8068 - val_loss: 1.4157\n",
      "\n",
      "Epoch 00021: val_loss improved from 1.45145 to 1.41574, saving model to model.h1.24_jan_19\n",
      "Epoch 22/30\n",
      "63/63 [==============================] - 5s 85ms/step - loss: 0.7493 - val_loss: 1.4168\n",
      "\n",
      "Epoch 00022: val_loss did not improve from 1.41574\n",
      "Epoch 23/30\n",
      "63/63 [==============================] - 5s 86ms/step - loss: 0.6915 - val_loss: 1.3770\n",
      "\n",
      "Epoch 00023: val_loss improved from 1.41574 to 1.37701, saving model to model.h1.24_jan_19\n",
      "Epoch 24/30\n",
      "63/63 [==============================] - 5s 85ms/step - loss: 0.6393 - val_loss: 1.3734\n",
      "\n",
      "Epoch 00024: val_loss improved from 1.37701 to 1.37344, saving model to model.h1.24_jan_19\n",
      "Epoch 25/30\n",
      "63/63 [==============================] - 5s 84ms/step - loss: 0.5882 - val_loss: 1.3462\n",
      "\n",
      "Epoch 00025: val_loss improved from 1.37344 to 1.34621, saving model to model.h1.24_jan_19\n",
      "Epoch 26/30\n",
      "63/63 [==============================] - 5s 85ms/step - loss: 0.5411 - val_loss: 1.3594\n",
      "\n",
      "Epoch 00026: val_loss did not improve from 1.34621\n",
      "Epoch 27/30\n",
      "63/63 [==============================] - 6s 88ms/step - loss: 0.4999 - val_loss: 1.3617\n",
      "\n",
      "Epoch 00027: val_loss did not improve from 1.34621\n",
      "Epoch 28/30\n",
      "63/63 [==============================] - 6s 88ms/step - loss: 0.4585 - val_loss: 1.3527\n",
      "\n",
      "Epoch 00028: val_loss did not improve from 1.34621\n",
      "Epoch 29/30\n",
      "63/63 [==============================] - 6s 88ms/step - loss: 0.4189 - val_loss: 1.3127\n",
      "\n",
      "Epoch 00029: val_loss improved from 1.34621 to 1.31272, saving model to model.h1.24_jan_19\n",
      "Epoch 30/30\n",
      "63/63 [==============================] - 5s 83ms/step - loss: 0.3828 - val_loss: 1.3174\n",
      "\n",
      "Epoch 00030: val_loss did not improve from 1.31272\n"
     ]
    }
   ],
   "source": [
    "filename = 'model.h1.24_jan_19'\n",
    "checkpoint = ModelCheckpoint(filename, monitor='val_loss', verbose=1, save_best_only=True, mode='min')\n",
    "\n",
    "# train model\n",
    "history = model.fit(trainX, trainY.reshape(trainY.shape[0], trainY.shape[1], 1),\n",
    "                    epochs=30, batch_size=512, validation_split = 0.2,callbacks=[checkpoint], \n",
    "                    verbose=1)"
   ]
  },
  {
   "cell_type": "code",
   "execution_count": 20,
   "metadata": {
    "execution": {
     "iopub.execute_input": "2025-05-28T05:36:24.892407Z",
     "iopub.status.busy": "2025-05-28T05:36:24.892002Z",
     "iopub.status.idle": "2025-05-28T05:36:25.083801Z",
     "shell.execute_reply": "2025-05-28T05:36:25.082828Z",
     "shell.execute_reply.started": "2025-05-28T05:36:24.892367Z"
    },
    "trusted": true
   },
   "outputs": [
    {
     "data": {
      "image/png": "[encoded data removed]",
      "text/plain": [
       "<Figure size 432x288 with 1 Axes>"
      ]
     },
     "metadata": {
      "needs_background": "light"
     },
     "output_type": "display_data"
    }
   ],
   "source": [
    "plt.plot(history.history['loss'])\n",
    "plt.plot(history.history['val_loss'])\n",
    "plt.legend(['train','validation'])\n",
    "plt.show()"
   ]
  },
  {
   "cell_type": "markdown",
   "metadata": {},
   "source": [
    "<h1> Prediction on unseen data</h1>"
   ]
  },
  {
   "cell_type": "code",
   "execution_count": 21,
   "metadata": {
    "execution": {
     "iopub.execute_input": "2025-05-28T05:50:26.658618Z",
     "iopub.status.busy": "2025-05-28T05:50:26.658252Z",
     "iopub.status.idle": "2025-05-28T05:50:38.807196Z",
     "shell.execute_reply": "2025-05-28T05:50:38.806238Z",
     "shell.execute_reply.started": "2025-05-28T05:50:26.658581Z"
    },
    "trusted": true
   },
   "outputs": [
    {
     "name": "stderr",
     "output_type": "stream",
     "text": [
      "/opt/conda/lib/python3.7/site-packages/tensorflow/python/keras/engine/sequential.py:450: UserWarning: `model.predict_classes()` is deprecated and will be removed after 2021-01-01. Please use instead:* `np.argmax(model.predict(x), axis=-1)`,   if your model does multi-class classification   (e.g. if it uses a `softmax` last-layer activation).* `(model.predict(x) > 0.5).astype(\"int32\")`,   if your model does binary classification   (e.g. if it uses a `sigmoid` last-layer activation).\n",
      "  warnings.warn('`model.predict_classes()` is deprecated and '\n"
     ]
    }
   ],
   "source": [
    "model = load_model('model.h1.24_jan_19')\n",
    "preds = model.predict_classes(testX.reshape((testX.shape[0],testX.shape[1])))"
   ]
  },
  {
   "cell_type": "code",
   "execution_count": 22,
   "metadata": {
    "execution": {
     "iopub.execute_input": "2025-05-28T05:50:43.559548Z",
     "iopub.status.busy": "2025-05-28T05:50:43.559240Z",
     "iopub.status.idle": "2025-05-28T05:50:43.563893Z",
     "shell.execute_reply": "2025-05-28T05:50:43.562834Z",
     "shell.execute_reply.started": "2025-05-28T05:50:43.559520Z"
    },
    "trusted": true
   },
   "outputs": [],
   "source": [
    "def get_word(n, tokenizer):\n",
    "    for word, index in tokenizer.word_index.items():\n",
    "        if index == n:\n",
    "            return word\n",
    "    return None"
   ]
  },
  {
   "cell_type": "code",
   "execution_count": 23,
   "metadata": {
    "execution": {
     "iopub.execute_input": "2025-05-28T05:50:45.578171Z",
     "iopub.status.busy": "2025-05-28T05:50:45.577845Z",
     "iopub.status.idle": "2025-05-28T05:52:28.427121Z",
     "shell.execute_reply": "2025-05-28T05:52:28.426379Z",
     "shell.execute_reply.started": "2025-05-28T05:50:45.578142Z"
    },
    "trusted": true
   },
   "outputs": [],
   "source": [
    "preds_text = []\n",
    "for i in preds:\n",
    "    temp = []\n",
    "    for j in range(len(i)):\n",
    "        t = get_word(i[j], eng_tokenizer)\n",
    "        if j > 0:\n",
    "            if (t == get_word(i[j-1], eng_tokenizer)) or (t == None):\n",
    "                temp.append('')\n",
    "            else:\n",
    "                temp.append(t)\n",
    "        else:\n",
    "            if(t == None):\n",
    "                temp.append('')\n",
    "            else:\n",
    "                temp.append(t) \n",
    "\n",
    "    preds_text.append(' '.join(temp))"
   ]
  },
  {
   "cell_type": "code",
   "execution_count": 24,
   "metadata": {
    "execution": {
     "iopub.execute_input": "2025-05-28T05:52:28.428531Z",
     "iopub.status.busy": "2025-05-28T05:52:28.428291Z",
     "iopub.status.idle": "2025-05-28T05:52:28.440586Z",
     "shell.execute_reply": "2025-05-28T05:52:28.439772Z",
     "shell.execute_reply.started": "2025-05-28T05:52:28.428510Z"
    },
    "trusted": true
   },
   "outputs": [],
   "source": [
    "pred_df = pd.DataFrame({'actual' : test[:,0], 'predicted' : preds_text})"
   ]
  },
  {
   "cell_type": "code",
   "execution_count": 25,
   "metadata": {
    "execution": {
     "iopub.execute_input": "2025-05-28T05:52:28.442465Z",
     "iopub.status.busy": "2025-05-28T05:52:28.442111Z",
     "iopub.status.idle": "2025-05-28T05:52:28.459233Z",
     "shell.execute_reply": "2025-05-28T05:52:28.458427Z",
     "shell.execute_reply.started": "2025-05-28T05:52:28.442428Z"
    },
    "trusted": true
   },
   "outputs": [
    {
     "data": {
      "text/html": [
       "<div>\n",
       "<style scoped>\n",
       "    .dataframe tbody tr th:only-of-type {\n",
       "        vertical-align: middle;\n",
       "    }\n",
       "\n",
       "    .dataframe tbody tr th {\n",
       "        vertical-align: top;\n",
       "    }\n",
       "\n",
       "    .dataframe thead th {\n",
       "        text-align: right;\n",
       "    }\n",
       "</style>\n",
       "<table border=\"1\" class=\"dataframe\">\n",
       "  <thead>\n",
       "    <tr style=\"text-align: right;\">\n",
       "      <th></th>\n",
       "      <th>actual</th>\n",
       "      <th>predicted</th>\n",
       "    </tr>\n",
       "  </thead>\n",
       "  <tbody>\n",
       "    <tr>\n",
       "      <th>0</th>\n",
       "      <td>i know that already</td>\n",
       "      <td>i already know that</td>\n",
       "    </tr>\n",
       "    <tr>\n",
       "      <th>1</th>\n",
       "      <td>whos she</td>\n",
       "      <td>who is she</td>\n",
       "    </tr>\n",
       "    <tr>\n",
       "      <th>2</th>\n",
       "      <td>do you have it</td>\n",
       "      <td>did you bring it</td>\n",
       "    </tr>\n",
       "    <tr>\n",
       "      <th>3</th>\n",
       "      <td>use your feet</td>\n",
       "      <td>get your  kids</td>\n",
       "    </tr>\n",
       "    <tr>\n",
       "      <th>4</th>\n",
       "      <td>that was the trouble</td>\n",
       "      <td>was the</td>\n",
       "    </tr>\n",
       "    <tr>\n",
       "      <th>5</th>\n",
       "      <td>he took off his coat</td>\n",
       "      <td>he put his</td>\n",
       "    </tr>\n",
       "    <tr>\n",
       "      <th>6</th>\n",
       "      <td>tom went sightseeing</td>\n",
       "      <td>tom fought the</td>\n",
       "    </tr>\n",
       "    <tr>\n",
       "      <th>7</th>\n",
       "      <td>i tried on the shoes</td>\n",
       "      <td>i left my advice</td>\n",
       "    </tr>\n",
       "    <tr>\n",
       "      <th>8</th>\n",
       "      <td>open those doors</td>\n",
       "      <td>open the door</td>\n",
       "    </tr>\n",
       "    <tr>\n",
       "      <th>9</th>\n",
       "      <td>ive got to help tom</td>\n",
       "      <td>i have to help tom</td>\n",
       "    </tr>\n",
       "    <tr>\n",
       "      <th>10</th>\n",
       "      <td>its my money</td>\n",
       "      <td>its is money</td>\n",
       "    </tr>\n",
       "    <tr>\n",
       "      <th>11</th>\n",
       "      <td>is it time</td>\n",
       "      <td>is it time</td>\n",
       "    </tr>\n",
       "    <tr>\n",
       "      <th>12</th>\n",
       "      <td>i cant watch</td>\n",
       "      <td>i cant hear at</td>\n",
       "    </tr>\n",
       "    <tr>\n",
       "      <th>13</th>\n",
       "      <td>he wants more</td>\n",
       "      <td>he wants an salad</td>\n",
       "    </tr>\n",
       "    <tr>\n",
       "      <th>14</th>\n",
       "      <td>who did you see</td>\n",
       "      <td>who did you see</td>\n",
       "    </tr>\n",
       "  </tbody>\n",
       "</table>\n",
       "</div>"
      ],
      "text/plain": [
       "                  actual                predicted\n",
       "0    i know that already  i already know that    \n",
       "1               whos she          who is she     \n",
       "2         do you have it     did you bring it    \n",
       "3          use your feet       get your  kids    \n",
       "4   that was the trouble            was the      \n",
       "5   he took off his coat          he put his     \n",
       "6   tom went sightseeing      tom fought the     \n",
       "7   i tried on the shoes     i left my advice    \n",
       "8       open those doors       open the door     \n",
       "9    ive got to help tom    i have to help tom   \n",
       "10          its my money        its is money     \n",
       "11            is it time          is it time     \n",
       "12          i cant watch       i cant hear at    \n",
       "13         he wants more    he wants an salad    \n",
       "14       who did you see      who did you see    "
      ]
     },
     "execution_count": 25,
     "metadata": {},
     "output_type": "execute_result"
    }
   ],
   "source": [
    "# print 15 rows randomly\n",
    "pred_df.head(15)"
   ]
  },
  {
   "cell_type": "markdown",
   "metadata": {},
   "source": [
    "<center><h1> CONCLUSION</h1></center>\n",
    "<br>\n",
    "\n",
    "<ul>\n",
    "    <li style=\"font-size:150%;\">Our Seq2Seq model does a decent job. But there are several instances where it misses out on understanding the key words.</li>\n",
    "    <li style=\"font-size:150%;\">These are the challenges you will face on a regular basis in NLP. But these aren’t immovable obstacles. We can mitigate such challenges by using more training data and building a better (or more complex) model.</li>\n",
    "</ul>"
   ]
  }
 ],
 "metadata": {
  "kaggle": {
   "accelerator": "nvidiaTeslaT4",
   "dataSources": [
    {
     "datasetId": 1118439,
     "sourceId": 1878727,
     "sourceType": "datasetVersion"
    }
   ],
   "dockerImageVersionId": 30096,
   "isGpuEnabled": true,
   "isInternetEnabled": true,
   "language": "python",
   "sourceType": "notebook"
  },
  "kernelspec": {
   "display_name": "Python 3",
   "language": "python",
   "name": "python3"
  },
  "language_info": {
   "codemirror_mode": {
    "name": "ipython",
    "version": 3
   },
   "file_extension": ".py",
   "mimetype": "text/x-python",
   "name": "python",
   "nbconvert_exporter": "python",
   "pygments_lexer": "ipython3",
   "version": "3.7.10"
  }
 },
 "nbformat": 4,
 "nbformat_minor": 4
}
