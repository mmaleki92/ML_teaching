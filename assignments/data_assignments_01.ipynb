{
 "cells": [
  {
   "cell_type": "markdown",
   "metadata": {},
   "source": [
    "<style>\n",
    "    .jp-Notebook .jp-MarkdownCell .jp-RenderedHTMLCommon {\n",
    "        direction: rtl;\n",
    "        text-align: right;\n",
    "    }\n",
    "</style>\n"
   ]
  },
  {
   "cell_type": "markdown",
   "metadata": {},
   "source": [
    "<div dir=\"rtl\">\n",
    "\n",
    "تمرین‌های **numpy** و **matplotlib**\n",
    "</div>\n"
   ]
  },
  {
   "cell_type": "markdown",
   "metadata": {},
   "source": [
    "<div dir=\"rtl\">\n",
    "\n",
    "۱. تولید آرایه با NumPy\n",
    "\n",
    "\n",
    "سطح: ساده\n",
    "\n",
    "شرح: یک آرایه یک‌بعدی با NumPy ایجاد کنید که شامل اعداد صحیح از ۰ تا ۹ باشد.\n",
    "\n",
    "نکته: از تابع np.arange استفاده کنید.\n",
    "</div>\n"
   ]
  },
  {
   "cell_type": "code",
   "execution_count": null,
   "metadata": {},
   "outputs": [],
   "source": []
  },
  {
   "cell_type": "markdown",
   "metadata": {},
   "source": [
    "<div dir=\"rtl\">\n",
    "\n",
    "۲. تولید ماتریس و چاپ ستون اول آن\n",
    "\n",
    "سطح: متوسط\n",
    "\n",
    "یک آرایه رندوم ۲ بعدی ایجاد کنید و ستون آن را چاپ کنید\n",
    "</div>\n",
    "\n"
   ]
  },
  {
   "cell_type": "code",
   "execution_count": null,
   "metadata": {},
   "outputs": [],
   "source": []
  },
  {
   "cell_type": "markdown",
   "metadata": {},
   "source": [
    "<div dir=\"rtl\">\n",
    "\n",
    "۳. یک ماتریس دو بعدی رندوم بین صفر و یک ایجاد کنید و اعداد کوچکتر از ۰.۵ در آن را به عدد ۱۰ تبدیل کنید\n",
    "\n",
    "سطح: متوسط\n",
    "</div>\n",
    "\n"
   ]
  },
  {
   "cell_type": "code",
   "execution_count": null,
   "metadata": {},
   "outputs": [],
   "source": []
  },
  {
   "cell_type": "markdown",
   "metadata": {},
   "source": [
    "<div dir=\"rtl\">\n",
    "\n",
    "۴. یک آرایه‌ی رندوم یک بعدی با ۱۰۰ مولفه را ایجاد کنید و مقادیر آن را reshape کنید به شکل (۱۰و ۱۰)\n",
    "</div>\n",
    "\n"
   ]
  },
  {
   "cell_type": "code",
   "execution_count": null,
   "metadata": {},
   "outputs": [],
   "source": []
  },
  {
   "cell_type": "markdown",
   "metadata": {},
   "source": [
    "<div dir=\"rtl\">\n",
    "\n",
    "۵. آرایه ای از اعداد 0 تا 100 را توسط نامپای ایجاد کنید و سینوس آن را به عنوان y ذخیره کنید\n",
    "</div>\n",
    "\n"
   ]
  },
  {
   "cell_type": "code",
   "execution_count": null,
   "metadata": {},
   "outputs": [],
   "source": []
  },
  {
   "cell_type": "markdown",
   "metadata": {},
   "source": [
    "<div dir=\"rtl\">\n",
    "\n",
    "\n",
    "6.  نمودار خطی دو تابع سینوس و کسینوس را برای بازه‌ی $(2\\pi, 0)$ را رسم کنید\n",
    "\n",
    "رسم را از طریق رسم خطی plot انجام دهید\n",
    "</div>\n",
    "\n",
    "\n"
   ]
  },
  {
   "cell_type": "code",
   "execution_count": null,
   "metadata": {},
   "outputs": [],
   "source": []
  },
  {
   "cell_type": "markdown",
   "metadata": {},
   "source": [
    "<div dir=\"rtl\">\n",
    "\n",
    "7. نمودار هیستوگرام ۱۰۰۰ عدد رندوم برای تعداد bin =  ۱۰۰  را رسم کنید\n",
    "\n",
    "</div>\n"
   ]
  },
  {
   "cell_type": "markdown",
   "metadata": {},
   "source": [
    "plt.hist"
   ]
  },
  {
   "cell_type": "markdown",
   "metadata": {},
   "source": [
    "<div dir=\"rtl\">\n",
    "\n",
    "bin در هیستوگرام به چه معناست؟\n",
    "\n",
    "</div>\n"
   ]
  },
  {
   "cell_type": "code",
   "execution_count": null,
   "metadata": {},
   "outputs": [],
   "source": []
  }
 ],
 "metadata": {
  "language_info": {
   "name": "python"
  }
 },
 "nbformat": 4,
 "nbformat_minor": 2
}
