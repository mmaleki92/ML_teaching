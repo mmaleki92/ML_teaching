{
  "nbformat": 4,
  "nbformat_minor": 0,
  "metadata": {
    "colab": {
      "provenance": [],
      "gpuType": "T4"
    },
    "kernelspec": {
      "name": "python3",
      "display_name": "Python 3"
    },
    "language_info": {
      "name": "python"
    },
    "accelerator": "GPU"
  },
  "cells": [
    {
      "cell_type": "code",
      "execution_count": 1,
      "metadata": {
        "colab": {
          "base_uri": "https://localhost:8080/"
        },
        "id": "5BQ0JCIpKukp",
        "outputId": "8a064708-6efd-4b10-a6dd-a2ccfd43f6f4"
      },
      "outputs": [
        {
          "output_type": "stream",
          "name": "stdout",
          "text": [
            "Downloading data from https://storage.googleapis.com/tensorflow/tf-keras-datasets/mnist.npz\n",
            "11490434/11490434 [==============================] - 2s 0us/step\n"
          ]
        }
      ],
      "source": [
        "import tensorflow as tf\n",
        "from tensorflow.keras.datasets import mnist\n",
        "\n",
        "# Load the MNIST dataset\n",
        "(x_train, y_train), (x_test, y_test) = mnist.load_data()\n",
        "\n",
        "# Normalize the images to the range [0, 1]\n",
        "x_train, x_test = x_train / 255.0, x_test / 255.0\n",
        "\n",
        "# Reshape the data to include the channel dimension\n",
        "x_train = x_train.reshape(-1, 28, 28, 1)\n",
        "x_test = x_test.reshape(-1, 28, 28, 1)\n",
        "\n",
        "# Convert labels to one-hot encoding\n",
        "y_train = tf.keras.utils.to_categorical(y_train, 10)\n",
        "y_test = tf.keras.utils.to_categorical(y_test, 10)\n"
      ]
    },
    {
      "cell_type": "code",
      "source": [
        "model = tf.keras.models.Sequential([\n",
        "    tf.keras.layers.Conv2D(32, (3, 3), activation='relu', input_shape=(28, 28, 1)),\n",
        "    tf.keras.layers.MaxPooling2D((2, 2)),\n",
        "    tf.keras.layers.Conv2D(64, (3, 3), activation='relu'),\n",
        "    tf.keras.layers.MaxPooling2D((2, 2)),\n",
        "    tf.keras.layers.Conv2D(64, (3, 3), activation='relu'),\n",
        "    tf.keras.layers.Flatten(),\n",
        "    tf.keras.layers.Dense(64, activation='relu'),\n",
        "    tf.keras.layers.Dense(10, activation='softmax')  # 10 output classes for 10 digits\n",
        "])\n",
        "\n",
        "model.compile(optimizer='adam',\n",
        "              loss='categorical_crossentropy',\n",
        "              metrics=['accuracy'])\n",
        "\n",
        "model.summary()\n"
      ],
      "metadata": {
        "colab": {
          "base_uri": "https://localhost:8080/"
        },
        "id": "pNuqhfD2KwOm",
        "outputId": "83e3f2d4-96f1-43ea-ab11-139e36bc79b3"
      },
      "execution_count": 2,
      "outputs": [
        {
          "output_type": "stream",
          "name": "stdout",
          "text": [
            "Model: \"sequential\"\n",
            "_________________________________________________________________\n",
            " Layer (type)                Output Shape              Param #   \n",
            "=================================================================\n",
            " conv2d (Conv2D)             (None, 26, 26, 32)        320       \n",
            "                                                                 \n",
            " max_pooling2d (MaxPooling2  (None, 13, 13, 32)        0         \n",
            " D)                                                              \n",
            "                                                                 \n",
            " conv2d_1 (Conv2D)           (None, 11, 11, 64)        18496     \n",
            "                                                                 \n",
            " max_pooling2d_1 (MaxPoolin  (None, 5, 5, 64)          0         \n",
            " g2D)                                                            \n",
            "                                                                 \n",
            " conv2d_2 (Conv2D)           (None, 3, 3, 64)          36928     \n",
            "                                                                 \n",
            " flatten (Flatten)           (None, 576)               0         \n",
            "                                                                 \n",
            " dense (Dense)               (None, 64)                36928     \n",
            "                                                                 \n",
            " dense_1 (Dense)             (None, 10)                650       \n",
            "                                                                 \n",
            "=================================================================\n",
            "Total params: 93322 (364.54 KB)\n",
            "Trainable params: 93322 (364.54 KB)\n",
            "Non-trainable params: 0 (0.00 Byte)\n",
            "_________________________________________________________________\n"
          ]
        }
      ]
    },
    {
      "cell_type": "code",
      "source": [
        "history = model.fit(\n",
        "    x_train, y_train,\n",
        "    epochs=10,\n",
        "    batch_size=32,\n",
        "    validation_split=0.2\n",
        ")\n"
      ],
      "metadata": {
        "colab": {
          "base_uri": "https://localhost:8080/"
        },
        "id": "tyuSlX0hMGa_",
        "outputId": "0682a1a2-d0f1-4fdf-f5b8-fe5e7bfe0aed"
      },
      "execution_count": 3,
      "outputs": [
        {
          "output_type": "stream",
          "name": "stdout",
          "text": [
            "Epoch 1/10\n",
            "1500/1500 [==============================] - 12s 5ms/step - loss: 0.1611 - accuracy: 0.9498 - val_loss: 0.0512 - val_accuracy: 0.9844\n",
            "Epoch 2/10\n",
            "1500/1500 [==============================] - 8s 5ms/step - loss: 0.0498 - accuracy: 0.9839 - val_loss: 0.0526 - val_accuracy: 0.9833\n",
            "Epoch 3/10\n",
            "1500/1500 [==============================] - 7s 4ms/step - loss: 0.0344 - accuracy: 0.9893 - val_loss: 0.0414 - val_accuracy: 0.9879\n",
            "Epoch 4/10\n",
            "1500/1500 [==============================] - 8s 6ms/step - loss: 0.0280 - accuracy: 0.9913 - val_loss: 0.0485 - val_accuracy: 0.9862\n",
            "Epoch 5/10\n",
            "1500/1500 [==============================] - 7s 4ms/step - loss: 0.0209 - accuracy: 0.9931 - val_loss: 0.0354 - val_accuracy: 0.9895\n",
            "Epoch 6/10\n",
            "1500/1500 [==============================] - 8s 5ms/step - loss: 0.0179 - accuracy: 0.9944 - val_loss: 0.0450 - val_accuracy: 0.9875\n",
            "Epoch 7/10\n",
            "1500/1500 [==============================] - 8s 5ms/step - loss: 0.0148 - accuracy: 0.9956 - val_loss: 0.0401 - val_accuracy: 0.9899\n",
            "Epoch 8/10\n",
            "1500/1500 [==============================] - 7s 4ms/step - loss: 0.0127 - accuracy: 0.9957 - val_loss: 0.0585 - val_accuracy: 0.9861\n",
            "Epoch 9/10\n",
            "1500/1500 [==============================] - 8s 5ms/step - loss: 0.0108 - accuracy: 0.9961 - val_loss: 0.0367 - val_accuracy: 0.9908\n",
            "Epoch 10/10\n",
            "1500/1500 [==============================] - 7s 5ms/step - loss: 0.0109 - accuracy: 0.9965 - val_loss: 0.0414 - val_accuracy: 0.9904\n"
          ]
        }
      ]
    },
    {
      "cell_type": "code",
      "source": [
        "# Save the trained model\n",
        "model.save('mnist_model.keras')\n"
      ],
      "metadata": {
        "id": "Xjzb_naIMNbc"
      },
      "execution_count": 4,
      "outputs": []
    },
    {
      "cell_type": "code",
      "source": [
        "loaded_model = tf.keras.models.load_model('mnist_model.keras')"
      ],
      "metadata": {
        "id": "uA1Hj4foNflJ"
      },
      "execution_count": 8,
      "outputs": []
    },
    {
      "cell_type": "code",
      "source": [
        "loaded_model.summary()"
      ],
      "metadata": {
        "colab": {
          "base_uri": "https://localhost:8080/"
        },
        "id": "zW8K6dEdNr9P",
        "outputId": "f8e4badf-8384-44ee-f385-2c47155910f5"
      },
      "execution_count": 9,
      "outputs": [
        {
          "output_type": "stream",
          "name": "stdout",
          "text": [
            "Model: \"sequential\"\n",
            "_________________________________________________________________\n",
            " Layer (type)                Output Shape              Param #   \n",
            "=================================================================\n",
            " conv2d (Conv2D)             (None, 26, 26, 32)        320       \n",
            "                                                                 \n",
            " max_pooling2d (MaxPooling2  (None, 13, 13, 32)        0         \n",
            " D)                                                              \n",
            "                                                                 \n",
            " conv2d_1 (Conv2D)           (None, 11, 11, 64)        18496     \n",
            "                                                                 \n",
            " max_pooling2d_1 (MaxPoolin  (None, 5, 5, 64)          0         \n",
            " g2D)                                                            \n",
            "                                                                 \n",
            " conv2d_2 (Conv2D)           (None, 3, 3, 64)          36928     \n",
            "                                                                 \n",
            " flatten (Flatten)           (None, 576)               0         \n",
            "                                                                 \n",
            " dense (Dense)               (None, 64)                36928     \n",
            "                                                                 \n",
            " dense_1 (Dense)             (None, 10)                650       \n",
            "                                                                 \n",
            "=================================================================\n",
            "Total params: 93322 (364.54 KB)\n",
            "Trainable params: 93322 (364.54 KB)\n",
            "Non-trainable params: 0 (0.00 Byte)\n",
            "_________________________________________________________________\n"
          ]
        }
      ]
    },
    {
      "cell_type": "code",
      "source": [
        "import numpy as np\n",
        "from tensorflow.keras.datasets import mnist\n",
        "import matplotlib.pyplot as plt\n",
        "\n",
        "# Load the MNIST dataset (again for demonstration purposes, typically you would use new data)\n",
        "(_, _), (x_test, y_test) = mnist.load_data()\n",
        "\n",
        "# Normalize the images to the range [0, 1]\n",
        "x_test = x_test / 255.0\n",
        "\n",
        "# Reshape the data to include the channel dimension\n",
        "x_test = x_test.reshape(-1, 28, 28, 1)\n",
        "\n",
        "# Convert labels to one-hot encoding\n",
        "y_test = tf.keras.utils.to_categorical(y_test, 10)\n",
        "\n",
        "# Select a random sample from the test set\n",
        "random_index = np.random.randint(0, len(x_test))\n",
        "sample_image = x_test[random_index]\n",
        "sample_label = y_test[random_index]\n",
        "\n",
        "# Add batch dimension to the sample image\n",
        "sample_image_batch = np.expand_dims(sample_image, axis=0)\n",
        "\n",
        "# Make a prediction\n",
        "predicted_probabilities = loaded_model.predict(sample_image_batch)\n",
        "predicted_label = np.argmax(predicted_probabilities)\n",
        "\n",
        "# Display the image and the predicted label\n",
        "plt.imshow(sample_image.squeeze(), cmap='gray')\n",
        "plt.title(f'Predicted Label: {predicted_label}')\n",
        "plt.show()\n",
        "\n",
        "# Print the actual label\n",
        "actual_label = np.argmax(sample_label)\n",
        "print(f'Actual Label: {actual_label}')\n"
      ],
      "metadata": {
        "colab": {
          "base_uri": "https://localhost:8080/",
          "height": 488
        },
        "id": "p_CeCXZwN3H9",
        "outputId": "2f691a6e-1c26-4ef5-ecf1-9bd0b9d78ab6"
      },
      "execution_count": 10,
      "outputs": [
        {
          "output_type": "stream",
          "name": "stdout",
          "text": [
            "1/1 [==============================] - 0s 252ms/step\n"
          ]
        },
        {
          "output_type": "display_data",
          "data": {
            "text/plain": [
              "<Figure size 640x480 with 1 Axes>"
            ],
            "image/png": "[encoded data removed]"
          },
          "metadata": {}
        },
        {
          "output_type": "stream",
          "name": "stdout",
          "text": [
            "Actual Label: 0\n"
          ]
        }
      ]
    },
    {
      "cell_type": "code",
      "source": [
        "import tensorflow as tf\n",
        "import numpy as np\n",
        "\n",
        "# Generate synthetic data\n",
        "np.random.seed(0)\n",
        "num_samples = 1000\n",
        "a_values = np.random.uniform(-2*np.pi, 2*np.pi, num_samples)  # random values for 'a'\n",
        "b_values = np.random.uniform(-1.5, 1.5, num_samples)  # random values for 'b'\n",
        "\n",
        "# Calculate target values with noise\n",
        "targets = np.sin(a_values) + np.tan(b_values)\n",
        "targets_with_noise = targets + np.random.normal(0, 0.1, num_samples)  # adding Gaussian noise\n",
        "\n",
        "# Create X and y arrays\n",
        "X = np.column_stack((a_values, b_values))  # Features: a_values and b_values concatenated horizontally\n",
        "y = targets_with_noise  # Target values with added noise\n",
        "\n",
        "# Define the neural network model\n",
        "model = tf.keras.Sequential([\n",
        "    tf.keras.layers.Dense(32, activation='relu', input_shape=(2,)),\n",
        "    tf.keras.layers.Dense(16, activation='relu'),\n",
        "    tf.keras.layers.Dense(1)  # No activation for regression\n",
        "])\n",
        "\n",
        "# Compile the model\n",
        "model.compile(optimizer='adam', loss='mean_squared_error')\n",
        "\n",
        "# Train the model\n",
        "model.fit(X, y, epochs=50, batch_size=32, shuffle=True)\n",
        "\n",
        "# Test the model with new data\n",
        "test_a = np.array([0.5, 1.0, 1.5])\n",
        "test_b = np.array([0.2, 0.4, 0.6])\n",
        "test_data = np.column_stack((test_a, test_b))\n",
        "predictions = model.predict(test_data)\n",
        "\n",
        "# Print predictions\n",
        "for i in range(len(test_a)):\n",
        "    print(f\"For a={test_a[i]}, b={test_b[i]}, predicted value: {predictions[i][0]}\")\n"
      ],
      "metadata": {
        "colab": {
          "base_uri": "https://localhost:8080/"
        },
        "id": "FhGwLGsvOAuQ",
        "outputId": "89f57f6b-bd14-4cfd-d7e4-026dedfd8d30"
      },
      "execution_count": 4,
      "outputs": [
        {
          "output_type": "stream",
          "name": "stdout",
          "text": [
            "Epoch 1/50\n",
            "32/32 [==============================] - 2s 4ms/step - loss: 10.7322\n",
            "Epoch 2/50\n",
            "32/32 [==============================] - 0s 3ms/step - loss: 9.3055\n",
            "Epoch 3/50\n",
            "32/32 [==============================] - 0s 3ms/step - loss: 8.4023\n",
            "Epoch 4/50\n",
            "32/32 [==============================] - 0s 3ms/step - loss: 7.0968\n",
            "Epoch 5/50\n",
            "32/32 [==============================] - 0s 3ms/step - loss: 5.8095\n",
            "Epoch 6/50\n",
            "32/32 [==============================] - 0s 3ms/step - loss: 4.7415\n",
            "Epoch 7/50\n",
            "32/32 [==============================] - 0s 3ms/step - loss: 4.0558\n",
            "Epoch 8/50\n",
            "32/32 [==============================] - 0s 3ms/step - loss: 3.7666\n",
            "Epoch 9/50\n",
            "32/32 [==============================] - 0s 3ms/step - loss: 3.5991\n",
            "Epoch 10/50\n",
            "32/32 [==============================] - 0s 3ms/step - loss: 3.4890\n",
            "Epoch 11/50\n",
            "32/32 [==============================] - 0s 3ms/step - loss: 3.4078\n",
            "Epoch 12/50\n",
            "32/32 [==============================] - 0s 3ms/step - loss: 3.3382\n",
            "Epoch 13/50\n",
            "32/32 [==============================] - 0s 3ms/step - loss: 3.2754\n",
            "Epoch 14/50\n",
            "32/32 [==============================] - 0s 4ms/step - loss: 3.2578\n",
            "Epoch 15/50\n",
            "32/32 [==============================] - 0s 3ms/step - loss: 3.1796\n",
            "Epoch 16/50\n",
            "32/32 [==============================] - 0s 3ms/step - loss: 3.1339\n",
            "Epoch 17/50\n",
            "32/32 [==============================] - 0s 3ms/step - loss: 3.1074\n",
            "Epoch 18/50\n",
            "32/32 [==============================] - 0s 3ms/step - loss: 3.0458\n",
            "Epoch 19/50\n",
            "32/32 [==============================] - 0s 3ms/step - loss: 3.0180\n",
            "Epoch 20/50\n",
            "32/32 [==============================] - 0s 3ms/step - loss: 3.0052\n",
            "Epoch 21/50\n",
            "32/32 [==============================] - 0s 3ms/step - loss: 2.9764\n",
            "Epoch 22/50\n",
            "32/32 [==============================] - 0s 3ms/step - loss: 2.9270\n",
            "Epoch 23/50\n",
            "32/32 [==============================] - 0s 4ms/step - loss: 2.8864\n",
            "Epoch 24/50\n",
            "32/32 [==============================] - 0s 4ms/step - loss: 2.8777\n",
            "Epoch 25/50\n",
            "32/32 [==============================] - 0s 3ms/step - loss: 2.8215\n",
            "Epoch 26/50\n",
            "32/32 [==============================] - 0s 3ms/step - loss: 2.8178\n",
            "Epoch 27/50\n",
            "32/32 [==============================] - 0s 3ms/step - loss: 2.7872\n",
            "Epoch 28/50\n",
            "32/32 [==============================] - 0s 3ms/step - loss: 2.7513\n",
            "Epoch 29/50\n",
            "32/32 [==============================] - 0s 3ms/step - loss: 2.7249\n",
            "Epoch 30/50\n",
            "32/32 [==============================] - 0s 3ms/step - loss: 2.6964\n",
            "Epoch 31/50\n",
            "32/32 [==============================] - 0s 3ms/step - loss: 2.6770\n",
            "Epoch 32/50\n",
            "32/32 [==============================] - 0s 3ms/step - loss: 2.6553\n",
            "Epoch 33/50\n",
            "32/32 [==============================] - 0s 4ms/step - loss: 2.6003\n",
            "Epoch 34/50\n",
            "32/32 [==============================] - 0s 3ms/step - loss: 2.5949\n",
            "Epoch 35/50\n",
            "32/32 [==============================] - 0s 3ms/step - loss: 2.5932\n",
            "Epoch 36/50\n",
            "32/32 [==============================] - 0s 3ms/step - loss: 2.5256\n",
            "Epoch 37/50\n",
            "32/32 [==============================] - 0s 3ms/step - loss: 2.4916\n",
            "Epoch 38/50\n",
            "32/32 [==============================] - 0s 3ms/step - loss: 2.4845\n",
            "Epoch 39/50\n",
            "32/32 [==============================] - 0s 4ms/step - loss: 2.4503\n",
            "Epoch 40/50\n",
            "32/32 [==============================] - 0s 4ms/step - loss: 2.4137\n",
            "Epoch 41/50\n",
            "32/32 [==============================] - 0s 5ms/step - loss: 2.3917\n",
            "Epoch 42/50\n",
            "32/32 [==============================] - 0s 4ms/step - loss: 2.3701\n",
            "Epoch 43/50\n",
            "32/32 [==============================] - 0s 4ms/step - loss: 2.3544\n",
            "Epoch 44/50\n",
            "32/32 [==============================] - 0s 4ms/step - loss: 2.3169\n",
            "Epoch 45/50\n",
            "32/32 [==============================] - 0s 4ms/step - loss: 2.2533\n",
            "Epoch 46/50\n",
            "32/32 [==============================] - 0s 4ms/step - loss: 2.2969\n",
            "Epoch 47/50\n",
            "32/32 [==============================] - 0s 4ms/step - loss: 2.2185\n",
            "Epoch 48/50\n",
            "32/32 [==============================] - 0s 4ms/step - loss: 2.1742\n",
            "Epoch 49/50\n",
            "32/32 [==============================] - 0s 5ms/step - loss: 2.1321\n",
            "Epoch 50/50\n",
            "32/32 [==============================] - 0s 4ms/step - loss: 2.1323\n",
            "1/1 [==============================] - 0s 68ms/step\n",
            "For a=0.5, b=0.2, predicted value: 1.0134650468826294\n",
            "For a=1.0, b=0.4, predicted value: 1.5382431745529175\n",
            "For a=1.5, b=0.6, predicted value: 1.8546198606491089\n"
          ]
        }
      ]
    },
    {
      "cell_type": "code",
      "source": [],
      "metadata": {
        "id": "pkmbnqaoO71Y"
      },
      "execution_count": null,
      "outputs": []
    }
  ]
}