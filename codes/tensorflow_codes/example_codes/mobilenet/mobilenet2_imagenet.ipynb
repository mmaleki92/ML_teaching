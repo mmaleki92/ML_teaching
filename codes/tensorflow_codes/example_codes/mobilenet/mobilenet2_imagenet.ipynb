{
 "cells": [
  {
   "cell_type": "markdown",
   "metadata": {},
   "source": [
    "## ImageNet:\n",
    "\n",
    "- ImageNet is a large visual database designed for use in visual object recognition software research. It contains over 14 million images that have been hand-annotated to indicate what objects are pictured.\n",
    "- In the context of this code, \"ImageNet weights\" means that the model has been trained on the ImageNet dataset and can recognize the types of objects found in this dataset.\n",
    "\n",
    "## MobileNetV2:\n",
    "\n",
    "- MobileNetV2 is a lightweight deep neural network architecture designed for mobile and edge devices. It's optimized for speed and efficiency while maintaining good accuracy.\n",
    "- The model is particularly well-suited for applications where computational resources are limited, like mobile apps or IoT devices.\n",
    "\n",
    "## Capabilities:\n",
    "\n",
    "- The model can classify images into 1,000 different categories like dogs, cats, various objects, scenes, etc.\n",
    "- It's important to note that MobileNetV2 is for image classification, not object detection. It predicts the dominant object in an image but doesn't provide the location of objects.\n",
    "\n",
    "## Aim of MobileNetV2:\n",
    "\n",
    "- The primary aim is to provide a computationally efficient model for image classification, making it possible to run sophisticated AI models on standard mobile devices."
   ]
  },
  {
   "cell_type": "markdown",
   "metadata": {},
   "source": [
    "Code Description and Explanation\n"
   ]
  },
  {
   "cell_type": "code",
   "execution_count": 5,
   "metadata": {},
   "outputs": [
    {
     "data": {
      "text/plain": [
       "[0, 1, 2, 3, 4, 5, 6, 7, 8, 9]"
      ]
     },
     "execution_count": 5,
     "metadata": {},
     "output_type": "execute_result"
    }
   ],
   "source": [
    "[for i in range(10)]"
   ]
  },
  {
   "cell_type": "code",
   "execution_count": 4,
   "metadata": {},
   "outputs": [
    {
     "data": {
      "text/plain": [
       "['hello', 'sd', 2, 3, 4, 22]"
      ]
     },
     "execution_count": 4,
     "metadata": {},
     "output_type": "execute_result"
    }
   ],
   "source": [
    "\n",
    "# def fun(i):\n",
    "#     if isinstance(i, str):\n",
    "#         return 0\n",
    "#     else:\n",
    "#         return i\n",
    "\n",
    "a = [2, 3, 4,22, 'hello', 'sd']\n",
    "\n",
    "sorted(a, key=lambda i: 0 if isinstance(i, str) else i)\n"
   ]
  },
  {
   "cell_type": "code",
   "execution_count": null,
   "metadata": {},
   "outputs": [],
   "source": [
    "import tensorflow as tf\n",
    "from tensorflow.keras.applications.mobilenet_v2 import MobileNetV2, preprocess_input, decode_predictions\n",
    "from tensorflow.keras.preprocessing import image\n",
    "import numpy as np"
   ]
  },
  {
   "cell_type": "code",
   "execution_count": null,
   "metadata": {},
   "outputs": [],
   "source": [
    "model = MobileNetV2(weights='imagenet')"
   ]
  },
  {
   "cell_type": "code",
   "execution_count": null,
   "metadata": {},
   "outputs": [],
   "source": [
    "def predict_image(img_path):\n",
    "    # Load and preprocess the image\n",
    "    img = image.load_img(img_path, target_size=(224, 224))\n",
    "    img_array = image.img_to_array(img)\n",
    "    img_array = np.expand_dims(img_array, axis=0)\n",
    "    img_array = preprocess_input(img_array)\n",
    "\n",
    "    # Make predictions\n",
    "    predictions = model.predict(img_array)\n",
    "\n",
    "    # Decode and return predictions\n",
    "    return decode_predictions(predictions, top=3)[0]"
   ]
  },
  {
   "cell_type": "code",
   "execution_count": null,
   "metadata": {},
   "outputs": [],
   "source": [
    "# Example usage\n",
    "img_path = 'face_image.png'  # Replace with your image path\n",
    "predictions = predict_image(img_path)\n",
    "\n",
    "for i, (imagenet_id, label, score) in enumerate(predictions):\n",
    "    print(f\"{i + 1}: {label} ({score:.2f})\")"
   ]
  }
 ],
 "metadata": {
  "kernelspec": {
   "display_name": "active",
   "language": "python",
   "name": "python3"
  },
  "language_info": {
   "codemirror_mode": {
    "name": "ipython",
    "version": 3
   },
   "file_extension": ".py",
   "mimetype": "text/x-python",
   "name": "python",
   "nbconvert_exporter": "python",
   "pygments_lexer": "ipython3",
   "version": "3.7.16"
  }
 },
 "nbformat": 4,
 "nbformat_minor": 2
}
